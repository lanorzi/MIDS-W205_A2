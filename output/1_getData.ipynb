{
 "cells": [
  {
   "cell_type": "code",
   "execution_count": 26,
   "metadata": {
    "collapsed": false
   },
   "outputs": [],
   "source": [
    "import sys\n",
    "import tweepy\n",
    "import datetime\n",
    "import time\n",
    "import urllib\n",
    "import signal\n",
    "import json\n",
    "from partitions import *\n"
   ]
  },
  {
   "cell_type": "code",
   "execution_count": 27,
   "metadata": {
    "collapsed": false
   },
   "outputs": [],
   "source": [
    "# Set up the AWS consumer key and access token.\n",
    "consumer_key = \"PMcIA60NfDIXHWkvvaUWGR0tt\";\n",
    "consumer_secret = \"XCOQSgdtpfc0o2DhHVrOfd9NGzitG2rmn91X0pRlz8shEdeRLF\";\n",
    "\n",
    "access_token = \"2413424839-xu5VjKan00fcMN0mqs0jCXCXtpnPRKuiPicdN1Z\";\n",
    "access_token_secret = \"zNfedCqXfwJRKWJZZo8MhhISDB4tSgKTYT9JBvaBzbDHW\";"
   ]
  },
  {
   "cell_type": "code",
   "execution_count": 28,
   "metadata": {
    "collapsed": true
   },
   "outputs": [],
   "source": [
    "# Authenticate against the AWS Service and setup the api process\n",
    "auth = tweepy.OAuthHandler(consumer_key, consumer_secret)\n",
    "auth.set_access_token(access_token, access_token_secret)\n",
    "api = tweepy.API(auth_handler=auth,wait_on_rate_limit=True,wait_on_rate_limit_notify=True)"
   ]
  },
  {
   "cell_type": "code",
   "execution_count": 29,
   "metadata": {
    "collapsed": false
   },
   "outputs": [],
   "source": [
    "class TweetSerializer:\n",
    "   out = None\n",
    "   first = True\n",
    "   count = 0\n",
    "   def start(self,partition,q):\n",
    "      self.count += 1\n",
    "      fname = \"tweets-\"+q+\" \"+str(partition)+\".json\"\n",
    "      self.out = open(fname,\"w\")\n",
    "      self.out.write(\"\")\n",
    "      self.first = True\n",
    "\n",
    "   def end(self):\n",
    "      if self.out is not None:\n",
    "         self.out.write(\"\\n\")\n",
    "         self.out.close()\n",
    "      self.out = None\n",
    "\n",
    "   def write(self,tweet):\n",
    "      if not self.first:\n",
    "         self.out.write(\"\\n\")\n",
    "      self.first = False\n",
    "      self.out.write(json.dumps(tweet._json).encode('utf8'))\n",
    "    "
   ]
  },
  {
   "cell_type": "code",
   "execution_count": 30,
   "metadata": {
    "collapsed": false
   },
   "outputs": [],
   "source": [
    "# Define the interrupt\n",
    "def interrupt(signum, frame):\n",
    "    print \"Interrupted, closing ...\"\n",
    "    TweetSerializer.end()\n",
    "    exit(1)"
   ]
  },
  {
   "cell_type": "code",
   "execution_count": 31,
   "metadata": {
    "collapsed": true
   },
   "outputs": [],
   "source": [
    "# Setup the parameters\n",
    "q1 ='#Warriors-#NBAFinals2015'\n",
    "q2 ='#NBßAFinals2015-#Warriors'\n",
    "q3 ='#NBAFinals2015 #Warriors'"
   ]
  },
  {
   "cell_type": "code",
   "execution_count": 32,
   "metadata": {
    "collapsed": false
   },
   "outputs": [],
   "source": [
    "# Start Date\n",
    "s = datetime.datetime.strptime(\"2015-06-21\", xsdDateFormat).date()\n",
    "\n",
    "# End Date\n",
    "t = datetime.datetime.strptime(\"2015-06-28\", xsdDateFormat).date()\n"
   ]
  },
  {
   "cell_type": "code",
   "execution_count": null,
   "metadata": {
    "collapsed": false
   },
   "outputs": [
    {
     "name": "stdout",
     "output_type": "stream",
     "text": [
      "\n",
      "JSON file #Warriors-#NBAFinals2015 2015-06-21 has been created.\n",
      "Rate limit reached. Sleeping for:"
     ]
    }
   ],
   "source": [
    "# Split the JSON files so that there is one file per date\n",
    "\n",
    "# Warriors only\n",
    "\n",
    "for d in datetime_partition(s,t): \n",
    "        tweetSer = TweetSerializer()\n",
    "        tweetSer.date = d\n",
    "        print \"\\nJSON file \" + q1 +\" \"+str(d) + \" has been created.\"\n",
    "        tweetSer.start(d,q1)\n",
    "        \n",
    "        c = tweepy.Cursor(api.search, q=q1,\n",
    "                           since= d, \n",
    "                           until= d+datetime.timedelta(days=1),\n",
    "                           monitor_rate_limit=True).items()\n",
    "        while True:\n",
    "            try:\n",
    "                tweet=c.next()\n",
    "                tweetSer.write(tweet)\n",
    "            except tweepy.TweepError:\n",
    "                time.sleep(60*15)\n",
    "                continue\n",
    "            except StopIteration:\n",
    "                break       \n",
    "        tweetSer.end()"
   ]
  },
  {
   "cell_type": "code",
   "execution_count": 24,
   "metadata": {
    "collapsed": false
   },
   "outputs": [
    {
     "name": "stdout",
     "output_type": "stream",
     "text": [
      "\n",
      "JSON file #NBAFinals2015-#Warriors 2015-06-21 has been created.\n",
      "\n",
      "JSON file #NBAFinals2015-#Warriors 2015-06-22 has been created.\n",
      "\n",
      "JSON file #NBAFinals2015-#Warriors 2015-06-23 has been created.\n",
      "\n",
      "JSON file #NBAFinals2015-#Warriors 2015-06-24 has been created.\n",
      "\n",
      "JSON file #NBAFinals2015-#Warriors 2015-06-25 has been created.\n",
      "\n",
      "JSON file #NBAFinals2015-#Warriors 2015-06-26 has been created.\n",
      "\n",
      "JSON file #NBAFinals2015-#Warriors 2015-06-27 has been created.\n"
     ]
    }
   ],
   "source": [
    "# #NBAFinals2015 only\n",
    "\n",
    "for d in datetime_partition(s,t): \n",
    "        tweetSer = TweetSerializer()\n",
    "        tweetSer.date = d\n",
    "        print \"\\nJSON file \" + q2 +\" \"+str(d) + \" has been created.\"\n",
    "        tweetSer.start(d,q2)\n",
    "        \n",
    "        c = tweepy.Cursor(api.search, q=q2,\n",
    "                           since= d, \n",
    "                           until= d+datetime.timedelta(days=1),\n",
    "                           monitor_rate_limit=True).items()\n",
    "        while True:\n",
    "            try:\n",
    "                tweet=c.next()\n",
    "                tweetSer.write(tweet)\n",
    "            except tweepy.TweepError:\n",
    "                time.sleep(60*15)\n",
    "                continue\n",
    "            except StopIteration:\n",
    "                break       \n",
    "        tweetSer.end()"
   ]
  },
  {
   "cell_type": "code",
   "execution_count": 23,
   "metadata": {
    "collapsed": false
   },
   "outputs": [
    {
     "name": "stdout",
     "output_type": "stream",
     "text": [
      "\n",
      "JSON file #NBAFinals2015 #Warriors 2015-06-21 has been created.\n",
      "\n",
      "JSON file #NBAFinals2015 #Warriors 2015-06-22 has been created.\n",
      "\n",
      "JSON file #NBAFinals2015 #Warriors 2015-06-23 has been created.\n",
      "\n",
      "JSON file #NBAFinals2015 #Warriors 2015-06-24 has been created.\n",
      "\n",
      "JSON file #NBAFinals2015 #Warriors 2015-06-25 has been created.\n",
      "\n",
      "JSON file #NBAFinals2015 #Warriors 2015-06-26 has been created.\n",
      "\n",
      "JSON file #NBAFinals2015 #Warriors 2015-06-27 has been created.\n"
     ]
    }
   ],
   "source": [
    "# #NBAFinals2015 AND #Warriors\n",
    "for d in datetime_partition(s,t): \n",
    "        tweetSer = TweetSerializer()\n",
    "        tweetSer.date = d\n",
    "        print \"\\nJSON file \" + q3 +\" \"+str(d) + \" has been created.\"\n",
    "        tweetSer.start(d,q3)\n",
    "        \n",
    "        c = tweepy.Cursor(api.search, q=q3,\n",
    "                           since= d, \n",
    "                           until= d+datetime.timedelta(days=1),\n",
    "                           monitor_rate_limit=True).items()\n",
    "        while True:\n",
    "            try:\n",
    "                tweet=c.next()\n",
    "                tweetSer.write(tweet)\n",
    "            except tweepy.TweepError:\n",
    "                time.sleep(60*15)\n",
    "                continue\n",
    "            except StopIteration:\n",
    "                break       \n",
    "        tweetSer.end()"
   ]
  },
  {
   "cell_type": "code",
   "execution_count": null,
   "metadata": {
    "collapsed": true
   },
   "outputs": [],
   "source": []
  }
 ],
 "metadata": {
  "kernelspec": {
   "display_name": "Python 2",
   "language": "python",
   "name": "python2"
  },
  "language_info": {
   "codemirror_mode": {
    "name": "ipython",
    "version": 2
   },
   "file_extension": ".py",
   "mimetype": "text/x-python",
   "name": "python",
   "nbconvert_exporter": "python",
   "pygments_lexer": "ipython2",
   "version": "2.7.10"
  }
 },
 "nbformat": 4,
 "nbformat_minor": 0
}
